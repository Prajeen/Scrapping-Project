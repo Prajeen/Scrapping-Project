{
 "cells": [
  {
   "cell_type": "code",
   "execution_count": 2,
   "metadata": {
    "collapsed": true
   },
   "outputs": [],
   "source": [
    "import pandas as pd\n",
    "from openpyxl import load_workbook\n",
    "from datetime import date, datetime, timedelta\n",
    "from openpyxl.utils.dataframe import dataframe_to_rows\n",
    "from openpyxl.styles import PatternFill, colors, Font"
   ]
  },
  {
   "cell_type": "code",
   "execution_count": 3,
   "metadata": {
    "collapsed": true
   },
   "outputs": [],
   "source": [
    "details_file_path = 'C:/Prajeen/My Docs/Equity/1.Equity Details/1.Fund Analysis/Fund Details/'\n",
    "graphExcel = '2.Weekly fund Graph.xlsx'\n",
    "\n",
    "BOLD_FONT_ORANGE_COL = 3\n",
    "ORANGE_COL = 2\n",
    "RED_FONT = 1\n",
    "OK = 0\n",
    "\n",
    "HEX_ORANGE = 'FABF8F'\n",
    "HEX_GREEN = '92D050'\n",
    "HEX_LIGHT_GREEN = 'C4D79B'\n",
    "HEX_GREY = 'D9D9D9'\n",
    "HEX_RED_FONT = 'FF0000'"
   ]
  },
  {
   "cell_type": "code",
   "execution_count": 4,
   "metadata": {
    "collapsed": true
   },
   "outputs": [],
   "source": [
    "def getDfFromXl(excel):\n",
    "    headers = list(excel.values)[0]\n",
    "    content = list(excel.values)[1:]\n",
    "    return pd.DataFrame(data=content,columns=headers)"
   ]
  },
  {
   "cell_type": "code",
   "execution_count": 5,
   "metadata": {
    "collapsed": true
   },
   "outputs": [],
   "source": [
    "def getToday():\n",
    "    return (date.today()).strftime('%d/%m/%Y')\n",
    "    #return (date.today()- timedelta(1)).strftime('%d/%m/%Y')"
   ]
  },
  {
   "cell_type": "code",
   "execution_count": 6,
   "metadata": {
    "collapsed": false
   },
   "outputs": [],
   "source": [
    "def calculateRank(normData):\n",
    "    rankedVal = normData.sort_values('normSum6M', ascending=False)[0:3]\n",
    "    rankedVal['Color'] = [HEX_GREEN, HEX_LIGHT_GREEN, HEX_GREY]\n",
    "    \n",
    "    sumVal = rankedVal['normSum6M']\n",
    "\n",
    "    if sumVal.values[0] == sumVal.values[1]:\n",
    "        rankedVal['Color'] = [HEX_GREEN, HEX_GREEN, HEX_LIGHT_GREEN]\n",
    "    elif sumVal.values[1] == sumVal.values[2]:\n",
    "        rankedVal['Color'] = [HEX_GREEN, HEX_LIGHT_GREEN, HEX_LIGHT_GREEN]\n",
    "    elif sumVal.values[0] == sumVal.values[1] and  sumVal.values[1] == sumVal.values[2]:\n",
    "        rankedVal['Color'] = [HEX_GREEN, HEX_GREEN, HEX_GREEN]\n",
    "        \n",
    "    posVal = rankedVal['Position']\n",
    "    colVal = rankedVal['Color']\n",
    "    return posVal, colVal"
   ]
  },
  {
   "cell_type": "code",
   "execution_count": 7,
   "metadata": {
    "collapsed": true
   },
   "outputs": [],
   "source": [
    "def calculatePerformance(growData):\n",
    "    performList = []\n",
    "    # BOLD_FONT_ORANGE_COL = 3\n",
    "    # ORANGE_COL = 2\n",
    "    # RED_FONT = 1\n",
    "    # OK = 0\n",
    "\n",
    "    for fundVal in growData.values:\n",
    "        if fundVal[3] < 0:\n",
    "            performList.append(3)\n",
    "        elif fundVal[2] < 0:\n",
    "            performList.append(2)\n",
    "        elif fundVal[1] < 0 and fundVal[0] < 0:\n",
    "            performList.append(1)\n",
    "        else:\n",
    "            performList.append(0)\n",
    "    return performList"
   ]
  },
  {
   "cell_type": "code",
   "execution_count": 8,
   "metadata": {
    "collapsed": false
   },
   "outputs": [],
   "source": [
    "evaData = load_workbook(details_file_path+graphExcel)\n",
    "resultPage = getDfFromXl(evaData['result'])\n",
    "indResDf = resultPage.set_index(['Type', 'Date'])"
   ]
  },
  {
   "cell_type": "code",
   "execution_count": 9,
   "metadata": {
    "collapsed": false
   },
   "outputs": [
    {
     "name": "stdout",
     "output_type": "stream",
     "text": [
      "pharma\n",
      "Type\n",
      "global\n",
      "multi\n",
      "tech"
     ]
    },
    {
     "name": "stderr",
     "output_type": "stream",
     "text": [
      "C:\\Prajeen\\_Workstation\\Anaconda\\lib\\site-packages\\ipykernel\\__main__.py:5: PerformanceWarning: indexing past lexsort depth may impact performance.\n"
     ]
    },
    {
     "name": "stdout",
     "output_type": "stream",
     "text": [
      "\n",
      "small\n",
      "mid\n",
      "elss\n",
      "value\n",
      "hybrid\n",
      "large & mid\n",
      "bank\n",
      "large\n",
      "infra\n",
      "execution finished!\n"
     ]
    }
   ],
   "source": [
    "for fund in resultPage.Type.unique():\n",
    "    print(fund)\n",
    "    if fund == 'Type':\n",
    "        continue\n",
    "    fundData = indResDf.loc[fund, getToday()]\n",
    "    #fundData = indResDf.loc[fund, '27/07/2018']\n",
    "    normalData = fundData[['Position','normSum6M']]\n",
    "    growthData = fundData[['1W', '1M', '3M', '6M']]\n",
    "\n",
    "    positionVal, colorVal =calculateRank(normalData)\n",
    "    performanceList = calculatePerformance(growthData)\n",
    "\n",
    "    fundSheet = evaData[fund]\n",
    "    maxRow = fundSheet.max_row\n",
    "\n",
    "    for val in range(len(performanceList)):\n",
    "        if performanceList[val] == BOLD_FONT_ORANGE_COL:\n",
    "            for count1 in range(1,5):\n",
    "                fundSheet.cell(row=maxRow, column=(val*4)+1+count1).fill = PatternFill(fgColor=HEX_ORANGE, fill_type='solid') \n",
    "                fundSheet.cell(row=maxRow, column=(val*4)+1+count1).font = Font(color=HEX_RED_FONT, bold=True)\n",
    "        elif performanceList[val] == ORANGE_COL:\n",
    "            for count2 in range(1,5):\n",
    "                fundSheet.cell(row=maxRow, column=(val*4)+1+count2).fill = PatternFill(fgColor=HEX_ORANGE, fill_type='solid') \n",
    "                fundSheet.cell(row=maxRow, column=(val*4)+1+count2).font = Font(color=HEX_RED_FONT, bold=False)\n",
    "        elif performanceList[val] == RED_FONT:\n",
    "            for count3 in range(1,5):\n",
    "                fundSheet.cell(row=maxRow, column=(val*4)+1+count3).font = Font(color=HEX_RED_FONT, bold=False)\n",
    "\n",
    "    for rnk in range(3):\n",
    "        rankedFundPos = positionVal.values[rnk]\n",
    "        rankCol = colorVal.values[rnk]\n",
    "        for count4 in range(1,5):\n",
    "            fundSheet.cell(row=maxRow, column=(rankedFundPos*4)+1+count4).fill = PatternFill(fgColor=rankCol, fill_type='solid') \n",
    "\n",
    "evaData.save(details_file_path+graphExcel)\n",
    "print('execution finished!')"
   ]
  }
 ],
 "metadata": {
  "kernelspec": {
   "display_name": "Python 3",
   "language": "python",
   "name": "python3"
  },
  "language_info": {
   "codemirror_mode": {
    "name": "ipython",
    "version": 3
   },
   "file_extension": ".py",
   "mimetype": "text/x-python",
   "name": "python",
   "nbconvert_exporter": "python",
   "pygments_lexer": "ipython3",
   "version": "3.5.5"
  }
 },
 "nbformat": 4,
 "nbformat_minor": 2
}
