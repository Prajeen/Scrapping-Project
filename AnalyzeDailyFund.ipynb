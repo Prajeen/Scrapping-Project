{
 "cells": [
  {
   "cell_type": "code",
   "execution_count": 2,
   "metadata": {
    "collapsed": true
   },
   "outputs": [],
   "source": [
    "import pandas as pd\n",
    "from openpyxl import load_workbook\n",
    "from datetime import date, datetime, timedelta\n",
    "from openpyxl.utils.dataframe import dataframe_to_rows"
   ]
  },
  {
   "cell_type": "code",
   "execution_count": 3,
   "metadata": {
    "collapsed": true
   },
   "outputs": [],
   "source": [
    "details_file_path = 'C:/Prajeen/My Docs/Equity/1.Equity Details/1.Fund Analysis/Fund Details/'\n",
    "graphExcel = '2.Weekly fund Graph.xlsx'"
   ]
  },
  {
   "cell_type": "code",
   "execution_count": 4,
   "metadata": {
    "collapsed": true
   },
   "outputs": [],
   "source": [
    "def getDfFromXl(excel):\n",
    "    headers = list(excel.values)[0]\n",
    "    content = list(excel.values)[1:]\n",
    "    return pd.DataFrame(data=content,columns=headers)"
   ]
  },
  {
   "cell_type": "code",
   "execution_count": 5,
   "metadata": {
    "collapsed": true
   },
   "outputs": [],
   "source": [
    "def getToday():\n",
    "    return (date.today()).strftime('%d/%m/%Y')\n",
    "    #return (date.today()- timedelta(1)).strftime('%d/%m/%Y')"
   ]
  },
  {
   "cell_type": "code",
   "execution_count": 6,
   "metadata": {
    "collapsed": false
   },
   "outputs": [],
   "source": [
    "evaData = load_workbook(details_file_path+graphExcel)\n",
    "evaDf = getDfFromXl(evaData['evaluation'])\n",
    "resultPage = evaData['result']\n",
    "indEvaDf = evaDf.set_index(['Type', 'Date'])"
   ]
  },
  {
   "cell_type": "code",
   "execution_count": 7,
   "metadata": {
    "collapsed": false
   },
   "outputs": [
    {
     "name": "stderr",
     "output_type": "stream",
     "text": [
      "C:\\Prajeen\\_Workstation\\Anaconda\\lib\\site-packages\\ipykernel\\__main__.py:2: PerformanceWarning: indexing past lexsort depth may impact performance.\n",
      "  from ipykernel import kernelapp as app\n",
      "C:\\Prajeen\\_Workstation\\Anaconda\\lib\\site-packages\\ipykernel\\__main__.py:14: SettingWithCopyWarning: \n",
      "A value is trying to be set on a copy of a slice from a DataFrame.\n",
      "Try using .loc[row_indexer,col_indexer] = value instead\n",
      "\n",
      "See the caveats in the documentation: http://pandas.pydata.org/pandas-docs/stable/indexing.html#indexing-view-versus-copy\n"
     ]
    },
    {
     "name": "stdout",
     "output_type": "stream",
     "text": [
      "execution finished!\n"
     ]
    }
   ],
   "source": [
    "for fType in evaDf.Type.unique():   \n",
    "    slicedDf = indEvaDf.loc[fType,getToday()]\n",
    "    retPoints = ['1W','1M','3M','6M']\n",
    "    retData = slicedDf[retPoints]\n",
    "#    print(fType)\n",
    "\n",
    "    retMean = retData.mean()\n",
    "    retRange = retData.max() - retData.min()\n",
    "#    print(retMean)\n",
    "#    print(retRange)\n",
    "\n",
    "    for val in retPoints:\n",
    "        newCol = val+'Norm'\n",
    "        retData[newCol] = retData[val].apply(lambda x: (x-retMean[val])/retRange[val])\n",
    "\n",
    "    '''# Other choices of multipliers are \n",
    "       # 0.2, 0.6, 0.9, 1\n",
    "       # 0.25, 0.6, 0.9, 1\n",
    "       # 0.25, 0.5, 0.9, 1\n",
    "    '''\n",
    "    retData = retData.assign(normSum6M = lambda x: x['1WNorm']*0.25 + x['1MNorm']*0.7 + x['3MNorm']*0.9 + x['6MNorm'])\n",
    "    retData = (retData.reset_index()).round(2)\n",
    "\n",
    "    for line in dataframe_to_rows(retData):\n",
    "        resultPage.append(line)\n",
    "    \n",
    "evaData.save(details_file_path+graphExcel)\n",
    "print('execution finished!')"
   ]
  },
  {
   "cell_type": "code",
   "execution_count": null,
   "metadata": {
    "collapsed": true
   },
   "outputs": [],
   "source": []
  }
 ],
 "metadata": {
  "kernelspec": {
   "display_name": "Python 3",
   "language": "python",
   "name": "python3"
  },
  "language_info": {
   "codemirror_mode": {
    "name": "ipython",
    "version": 3
   },
   "file_extension": ".py",
   "mimetype": "text/x-python",
   "name": "python",
   "nbconvert_exporter": "python",
   "pygments_lexer": "ipython3",
   "version": "3.5.5"
  }
 },
 "nbformat": 4,
 "nbformat_minor": 2
}
